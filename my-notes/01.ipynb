{
 "cells": [
  {
   "cell_type": "code",
   "execution_count": 3,
   "id": "54a58965",
   "metadata": {},
   "outputs": [],
   "source": [
    "import torch\n",
    "from torch import nn\n",
    "import matplotlib.pyplot as plt"
   ]
  },
  {
   "cell_type": "markdown",
   "id": "31f6b49f",
   "metadata": {},
   "source": [
    "# High Level Workflow\n",
    "- start with data, build algorithm to detect patterns, use patterns to make predictions\n",
    "\n",
    "1. turn data into tensors\n",
    "2. Build model (or use pre-trained model)\n",
    "    - loss function\n",
    "    - optimizer\n",
    "    - training loop\n",
    "3. Fit data to model and make a prediction\n",
    "4. Evaluate model\n",
    "5. Improve model through experiments\n",
    "6. Save and use model"
   ]
  },
  {
   "cell_type": "code",
   "execution_count": null,
   "id": "c1a01e3b",
   "metadata": {},
   "outputs": [],
   "source": []
  }
 ],
 "metadata": {
  "kernelspec": {
   "display_name": "Python 3 (ipykernel)",
   "language": "python",
   "name": "python3"
  },
  "language_info": {
   "codemirror_mode": {
    "name": "ipython",
    "version": 3
   },
   "file_extension": ".py",
   "mimetype": "text/x-python",
   "name": "python",
   "nbconvert_exporter": "python",
   "pygments_lexer": "ipython3",
   "version": "3.8.3"
  }
 },
 "nbformat": 4,
 "nbformat_minor": 5
}

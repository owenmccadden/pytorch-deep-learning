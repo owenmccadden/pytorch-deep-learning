{
 "cells": [
  {
   "cell_type": "code",
   "execution_count": 2,
   "id": "1f8dd214",
   "metadata": {},
   "outputs": [],
   "source": [
    "import torch"
   ]
  },
  {
   "cell_type": "markdown",
   "id": "04e989ec",
   "metadata": {},
   "source": [
    "# Tensors\n",
    "\n",
    "- tensors are n dimensional arrays of numbers\n",
    "- matrices are 2 dimensional arrays of numbers\n",
    "- vectors are 1 dimensional arrays\n",
    "- scalars are just numbers\n"
   ]
  },
  {
   "cell_type": "markdown",
   "id": "ee2fa97c",
   "metadata": {},
   "source": [
    "### Scalar\n",
    "- often denoted by a"
   ]
  },
  {
   "cell_type": "code",
   "execution_count": 18,
   "id": "5ff4c23e",
   "metadata": {},
   "outputs": [
    {
     "data": {
      "text/plain": [
       "tensor(1)"
      ]
     },
     "execution_count": 18,
     "metadata": {},
     "output_type": "execute_result"
    }
   ],
   "source": [
    "scalar = torch.tensor(1) # scalar\n",
    "scalar"
   ]
  },
  {
   "cell_type": "code",
   "execution_count": 19,
   "id": "e3812b02",
   "metadata": {},
   "outputs": [
    {
     "data": {
      "text/plain": [
       "0"
      ]
     },
     "execution_count": 19,
     "metadata": {},
     "output_type": "execute_result"
    }
   ],
   "source": [
    "scalar.ndim"
   ]
  },
  {
   "cell_type": "code",
   "execution_count": 22,
   "id": "d2dce852",
   "metadata": {},
   "outputs": [
    {
     "data": {
      "text/plain": [
       "1"
      ]
     },
     "execution_count": 22,
     "metadata": {},
     "output_type": "execute_result"
    }
   ],
   "source": [
    "scalar.item()"
   ]
  },
  {
   "cell_type": "markdown",
   "id": "e1d371bb",
   "metadata": {},
   "source": [
    "### Vector\n",
    "- denoted by y"
   ]
  },
  {
   "cell_type": "code",
   "execution_count": 23,
   "id": "b5c4ee16",
   "metadata": {},
   "outputs": [
    {
     "data": {
      "text/plain": [
       "tensor([1, 2])"
      ]
     },
     "execution_count": 23,
     "metadata": {},
     "output_type": "execute_result"
    }
   ],
   "source": [
    "vector = torch.tensor([1,2]) # vector\n",
    "vector"
   ]
  },
  {
   "cell_type": "code",
   "execution_count": 24,
   "id": "4f4ddee6",
   "metadata": {},
   "outputs": [
    {
     "data": {
      "text/plain": [
       "1"
      ]
     },
     "execution_count": 24,
     "metadata": {},
     "output_type": "execute_result"
    }
   ],
   "source": [
    "vector.ndim"
   ]
  },
  {
   "cell_type": "code",
   "execution_count": 25,
   "id": "3254934c",
   "metadata": {},
   "outputs": [
    {
     "data": {
      "text/plain": [
       "torch.Size([2])"
      ]
     },
     "execution_count": 25,
     "metadata": {},
     "output_type": "execute_result"
    }
   ],
   "source": [
    "vector.shape"
   ]
  },
  {
   "cell_type": "markdown",
   "id": "7203b729",
   "metadata": {},
   "source": [
    "### Matrix\n",
    "- denoted by Q, W"
   ]
  },
  {
   "cell_type": "code",
   "execution_count": 26,
   "id": "d485c659",
   "metadata": {},
   "outputs": [
    {
     "data": {
      "text/plain": [
       "tensor([[1, 2],\n",
       "        [3, 4]])"
      ]
     },
     "execution_count": 26,
     "metadata": {},
     "output_type": "execute_result"
    }
   ],
   "source": [
    "matrix = torch.tensor([[1,2], [3,4]]) # matrix\n",
    "matrix"
   ]
  },
  {
   "cell_type": "code",
   "execution_count": 27,
   "id": "e42066e1",
   "metadata": {},
   "outputs": [
    {
     "data": {
      "text/plain": [
       "2"
      ]
     },
     "execution_count": 27,
     "metadata": {},
     "output_type": "execute_result"
    }
   ],
   "source": [
    "matrix.ndim"
   ]
  },
  {
   "cell_type": "code",
   "execution_count": 28,
   "id": "ea487205",
   "metadata": {},
   "outputs": [
    {
     "data": {
      "text/plain": [
       "torch.Size([2, 2])"
      ]
     },
     "execution_count": 28,
     "metadata": {},
     "output_type": "execute_result"
    }
   ],
   "source": [
    "matrix.shape"
   ]
  },
  {
   "cell_type": "markdown",
   "id": "240e466e",
   "metadata": {},
   "source": [
    "### Tensor\n",
    "- denoted by X\n",
    "- dimensions go outer to inner\n",
    "- shape [1,3,3] means 1 3x3 tensor"
   ]
  },
  {
   "cell_type": "code",
   "execution_count": 35,
   "id": "bc16f355",
   "metadata": {},
   "outputs": [
    {
     "data": {
      "text/plain": [
       "tensor([[[1, 2, 3],\n",
       "         [4, 5, 6],\n",
       "         [7, 8, 9]]])"
      ]
     },
     "execution_count": 35,
     "metadata": {},
     "output_type": "execute_result"
    }
   ],
   "source": [
    "tensor = torch.tensor([[[1,2,3],[4,5,6],[7,8,9]]]) # tensor\n",
    "tensor"
   ]
  },
  {
   "cell_type": "code",
   "execution_count": 36,
   "id": "1276ab7c",
   "metadata": {},
   "outputs": [
    {
     "data": {
      "text/plain": [
       "3"
      ]
     },
     "execution_count": 36,
     "metadata": {},
     "output_type": "execute_result"
    }
   ],
   "source": [
    "tensor.ndim"
   ]
  },
  {
   "cell_type": "code",
   "execution_count": 37,
   "id": "6539640c",
   "metadata": {},
   "outputs": [
    {
     "data": {
      "text/plain": [
       "torch.Size([1, 3, 3])"
      ]
     },
     "execution_count": 37,
     "metadata": {},
     "output_type": "execute_result"
    }
   ],
   "source": [
    "tensor.shape"
   ]
  },
  {
   "cell_type": "code",
   "execution_count": 47,
   "id": "4d60b6a8",
   "metadata": {},
   "outputs": [
    {
     "data": {
      "text/plain": [
       "(tensor([[[0.1651, 0.1454, 0.9371],\n",
       "          [0.3580, 0.7883, 0.5624],\n",
       "          [0.7663, 0.4376, 0.1037]],\n",
       " \n",
       "         [[0.8538, 0.9672, 0.3670],\n",
       "          [0.4303, 0.4508, 0.9327],\n",
       "          [0.2353, 0.8423, 0.9300]],\n",
       " \n",
       "         [[0.1503, 0.1130, 0.8964],\n",
       "          [0.9745, 0.8227, 0.4032],\n",
       "          [0.8689, 0.0210, 0.3597]]]),\n",
       " torch.float32)"
      ]
     },
     "execution_count": 47,
     "metadata": {},
     "output_type": "execute_result"
    }
   ],
   "source": [
    "random_tensor = torch.rand(size=(3, 3, 3))\n",
    "random_tensor, random_tensor.dtype"
   ]
  },
  {
   "cell_type": "code",
   "execution_count": 46,
   "id": "49fd22b3",
   "metadata": {},
   "outputs": [
    {
     "data": {
      "text/plain": [
       "tensor([[[0., 0., 0.],\n",
       "         [0., 0., 0.],\n",
       "         [0., 0., 0.]],\n",
       "\n",
       "        [[0., 0., 0.],\n",
       "         [0., 0., 0.],\n",
       "         [0., 0., 0.]],\n",
       "\n",
       "        [[0., 0., 0.],\n",
       "         [0., 0., 0.],\n",
       "         [0., 0., 0.]]])"
      ]
     },
     "execution_count": 46,
     "metadata": {},
     "output_type": "execute_result"
    }
   ],
   "source": [
    "torch.zeros(size=(3,3,3))"
   ]
  },
  {
   "cell_type": "code",
   "execution_count": 51,
   "id": "19be3e61",
   "metadata": {},
   "outputs": [
    {
     "data": {
      "text/plain": [
       "tensor([[[1., 1., 1.],\n",
       "         [1., 1., 1.],\n",
       "         [1., 1., 1.]],\n",
       "\n",
       "        [[1., 1., 1.],\n",
       "         [1., 1., 1.],\n",
       "         [1., 1., 1.]],\n",
       "\n",
       "        [[1., 1., 1.],\n",
       "         [1., 1., 1.],\n",
       "         [1., 1., 1.]]])"
      ]
     },
     "execution_count": 51,
     "metadata": {},
     "output_type": "execute_result"
    }
   ],
   "source": [
    "torch.ones(size=(3,3,3))"
   ]
  },
  {
   "cell_type": "code",
   "execution_count": 53,
   "id": "9bad46ec",
   "metadata": {},
   "outputs": [
    {
     "data": {
      "text/plain": [
       "tensor([0, 1, 2, 3, 4, 5, 6, 7, 8, 9])"
      ]
     },
     "execution_count": 53,
     "metadata": {},
     "output_type": "execute_result"
    }
   ],
   "source": [
    "torch.arange(start=0, end=10, step=1)"
   ]
  },
  {
   "cell_type": "code",
   "execution_count": 54,
   "id": "7172dd23",
   "metadata": {},
   "outputs": [
    {
     "data": {
      "text/plain": [
       "tensor([0, 0, 0, 0, 0, 0, 0, 0, 0, 0])"
      ]
     },
     "execution_count": 54,
     "metadata": {},
     "output_type": "execute_result"
    }
   ],
   "source": [
    "# use this to create a copy of a tensor with the same shape\n",
    "\n",
    "one_to_ten = torch.arange(start=0, end=10, step=1)\n",
    "\n",
    "torch.zeros_like(one_to_ten)"
   ]
  },
  {
   "cell_type": "code",
   "execution_count": 55,
   "id": "ee3a131f",
   "metadata": {},
   "outputs": [
    {
     "data": {
      "text/plain": [
       "tensor([1, 1, 1, 1, 1, 1, 1, 1, 1, 1])"
      ]
     },
     "execution_count": 55,
     "metadata": {},
     "output_type": "execute_result"
    }
   ],
   "source": [
    "torch.ones_like(one_to_ten)"
   ]
  },
  {
   "cell_type": "markdown",
   "id": "a1ce03e2",
   "metadata": {},
   "source": [
    "# Tensor Datatypes\n",
    "- tensors can use many different types of integers and floats\n",
    "    - 8, 16, 32, and 64 bit ints and floats\n",
    "- default is 32 bit floats\n",
    "- decision of which type of number to use is a tradeoff between precision and compute\n",
    "    - fewer bits --> less accuracy, less compute, faster runtime\n",
    "    - more bits --> more accuracy, more compute, slower runtime\n",
    "- You can also set device to cpu or cuda\n",
    "    - cuda means you need a nvidia gpu with cuda drivers\n",
    "    - best practice is to design code to be device agnostic \n",
    "- Many bugs and issues with pytorch are related mismatches with:\n",
    "    - shape\n",
    "    - data type\n",
    "    - device"
   ]
  },
  {
   "cell_type": "code",
   "execution_count": 62,
   "id": "bcfa64c2",
   "metadata": {},
   "outputs": [
    {
     "data": {
      "text/plain": [
       "(torch.Size([3]), torch.float32, device(type='cpu'))"
      ]
     },
     "execution_count": 62,
     "metadata": {},
     "output_type": "execute_result"
    }
   ],
   "source": [
    "float_32_tensor = torch.tensor([3.0, 6.0, 9.0],\n",
    "                               dtype=None,\n",
    "                               device=None,\n",
    "                               requires_grad=False)\n",
    "\n",
    "# defaults\n",
    "float_32_tensor.shape, float_32_tensor.dtype, float_32_tensor.device"
   ]
  },
  {
   "cell_type": "markdown",
   "id": "c085e657",
   "metadata": {},
   "source": [
    "# Tensor Operations\n",
    "- in deep learning everything is represented as tensors\n",
    "- tensor operations are the building blocks of neural networks\n",
    "- models perform series of tensor operations to find patterns in data\n",
    "- addition, subtraction, scalar multiplication and division, matrix multiplication\n",
    "- \"its all matrix multiplication\"\n",
    "    - remember for matrix multiplication, the inner dimensions must match, otherwise it is an invalid operation\n",
    "    - matrix multiplication takes the sum of the products\n",
    "    \n",
    "- we can also transpose tensors, or swap any dimensions\n",
    "    - use .transpose, or .T\n",
    "    \n",
    "- pytorch also plays nicely with numpy and we can convert to and from pytorch tensors and numpy arrays easily"
   ]
  },
  {
   "cell_type": "code",
   "execution_count": 64,
   "id": "08ea08fd",
   "metadata": {},
   "outputs": [],
   "source": [
    "tensor = torch.tensor([1, 2, 3])"
   ]
  },
  {
   "cell_type": "code",
   "execution_count": 65,
   "id": "21545819",
   "metadata": {},
   "outputs": [
    {
     "data": {
      "text/plain": [
       "tensor([11, 12, 13])"
      ]
     },
     "execution_count": 65,
     "metadata": {},
     "output_type": "execute_result"
    }
   ],
   "source": [
    "tensor + 10"
   ]
  },
  {
   "cell_type": "code",
   "execution_count": 66,
   "id": "510b9702",
   "metadata": {},
   "outputs": [
    {
     "data": {
      "text/plain": [
       "tensor([10, 20, 30])"
      ]
     },
     "execution_count": 66,
     "metadata": {},
     "output_type": "execute_result"
    }
   ],
   "source": [
    "tensor * 10"
   ]
  },
  {
   "cell_type": "code",
   "execution_count": 67,
   "id": "2e0c912c",
   "metadata": {},
   "outputs": [
    {
     "data": {
      "text/plain": [
       "tensor([-9, -8, -7])"
      ]
     },
     "execution_count": 67,
     "metadata": {},
     "output_type": "execute_result"
    }
   ],
   "source": [
    "tensor - 10"
   ]
  },
  {
   "cell_type": "code",
   "execution_count": 68,
   "id": "e3e9522a",
   "metadata": {},
   "outputs": [
    {
     "data": {
      "text/plain": [
       "tensor([0.1000, 0.2000, 0.3000])"
      ]
     },
     "execution_count": 68,
     "metadata": {},
     "output_type": "execute_result"
    }
   ],
   "source": [
    "tensor / 10"
   ]
  },
  {
   "cell_type": "code",
   "execution_count": 72,
   "id": "fd6e7734",
   "metadata": {},
   "outputs": [],
   "source": [
    "tensor = torch.tensor([1, 2, 3])"
   ]
  },
  {
   "cell_type": "code",
   "execution_count": 73,
   "id": "960feaa7",
   "metadata": {},
   "outputs": [
    {
     "data": {
      "text/plain": [
       "tensor([1, 4, 9])"
      ]
     },
     "execution_count": 73,
     "metadata": {},
     "output_type": "execute_result"
    }
   ],
   "source": [
    "tensor * tensor"
   ]
  },
  {
   "cell_type": "code",
   "execution_count": 74,
   "id": "47202c36",
   "metadata": {},
   "outputs": [
    {
     "data": {
      "text/plain": [
       "tensor(14)"
      ]
     },
     "execution_count": 74,
     "metadata": {},
     "output_type": "execute_result"
    }
   ],
   "source": [
    "tensor.matmul(tensor)"
   ]
  },
  {
   "cell_type": "code",
   "execution_count": 77,
   "id": "282896fd",
   "metadata": {},
   "outputs": [],
   "source": [
    "A = torch.tensor([[1, 2],\n",
    "                         [3, 4],\n",
    "                         [5, 6]], dtype=torch.float32)\n",
    "\n",
    "B = torch.tensor([[7, 10],\n",
    "                         [8, 11], \n",
    "                         [9, 12]], dtype=torch.float32)"
   ]
  },
  {
   "cell_type": "code",
   "execution_count": 82,
   "id": "2d2c4349",
   "metadata": {},
   "outputs": [
    {
     "ename": "RuntimeError",
     "evalue": "mat1 and mat2 shapes cannot be multiplied (3x2 and 3x2)",
     "output_type": "error",
     "traceback": [
      "\u001b[0;31m---------------------------------------------------------------------------\u001b[0m",
      "\u001b[0;31mRuntimeError\u001b[0m                              Traceback (most recent call last)",
      "Cell \u001b[0;32mIn[82], line 2\u001b[0m\n\u001b[1;32m      1\u001b[0m \u001b[38;5;66;03m# matrix multiplication fails if inner dimensions don't match\u001b[39;00m\n\u001b[0;32m----> 2\u001b[0m \u001b[43mA\u001b[49m\u001b[38;5;241;43m.\u001b[39;49m\u001b[43mmatmul\u001b[49m\u001b[43m(\u001b[49m\u001b[43mB\u001b[49m\u001b[43m)\u001b[49m\n",
      "\u001b[0;31mRuntimeError\u001b[0m: mat1 and mat2 shapes cannot be multiplied (3x2 and 3x2)"
     ]
    }
   ],
   "source": [
    "# matrix multiplication fails if inner dimensions don't match\n",
    "A.matmul(B)"
   ]
  },
  {
   "cell_type": "code",
   "execution_count": 81,
   "id": "b5a2a466",
   "metadata": {},
   "outputs": [
    {
     "data": {
      "text/plain": [
       "tensor([[ 27.,  30.,  33.],\n",
       "        [ 61.,  68.,  75.],\n",
       "        [ 95., 106., 117.]])"
      ]
     },
     "execution_count": 81,
     "metadata": {},
     "output_type": "execute_result"
    }
   ],
   "source": [
    "A.mm(B.T) #mm is a shortcut for matmul"
   ]
  },
  {
   "cell_type": "markdown",
   "id": "36b3ca78",
   "metadata": {},
   "source": [
    "### Torch.nn.Linear()\n",
    "\n",
    "- feed forward layer or fully connected layer\n",
    "- matrix multiplication between input x and weights matrix A\n",
    "\n",
    "$$\n",
    "y = x\\cdot{A^T} + b\n",
    "$$\n",
    "\n",
    "- y is the output, hoping to find patterns in input x\n",
    "- x is the input layer\n",
    "- A is the weights matrix, starts as random numbers, and gets adjusted to better represent patterns in x\n",
    "- b is bias to offset weights and inputs\n",
    "\n",
    "\n",
    "- in features – inner dimensions of input\n",
    "- out features - outer dimensions of input"
   ]
  },
  {
   "cell_type": "code",
   "execution_count": 95,
   "id": "78165dfe",
   "metadata": {},
   "outputs": [
    {
     "name": "stdout",
     "output_type": "stream",
     "text": [
      "Input shape: torch.Size([3, 3])\n",
      "\n",
      "Output:\n",
      "tensor([[0.5705, 1.1287, 2.0320],\n",
      "        [2.1412, 2.1694, 3.1659],\n",
      "        [3.7119, 3.2102, 4.2997]], grad_fn=<AddmmBackward0>)\n",
      "\n",
      "Output shape: torch.Size([3, 3])\n"
     ]
    }
   ],
   "source": [
    "# Since the linear layer starts with a random weights matrix, let's make it reproducible (more on this later)\n",
    "torch.manual_seed(42)\n",
    "\n",
    "tensor_A = torch.tensor([[1, 2, 3],\n",
    "                         [3, 4, 5],\n",
    "                         [5, 6, 7]], dtype=torch.float32)\n",
    "\n",
    "# This uses matrix multiplication\n",
    "linear = torch.nn.Linear(in_features=3, # in_features = matches inner dimension of input \n",
    "                         out_features=3) # out_features = describes outer value \n",
    "x = tensor_A\n",
    "output = linear(x)\n",
    "print(f\"Input shape: {x.shape}\\n\")\n",
    "print(f\"Output:\\n{output}\\n\\nOutput shape: {output.shape}\")"
   ]
  },
  {
   "cell_type": "markdown",
   "id": "49934841",
   "metadata": {},
   "source": [
    "### Aggregation"
   ]
  },
  {
   "cell_type": "code",
   "execution_count": 98,
   "id": "cf0f4df7",
   "metadata": {},
   "outputs": [
    {
     "name": "stdout",
     "output_type": "stream",
     "text": [
      "Minimum: 1.0\n",
      "Maximum: 7.0\n",
      "Mean: 4.0\n",
      "Sum: 36.0\n"
     ]
    }
   ],
   "source": [
    "x = tensor_A\n",
    "\n",
    "print(f\"Minimum: {x.min()}\")\n",
    "print(f\"Maximum: {x.max()}\")\n",
    "# print(f\"Mean: {x.mean()}\") # this will error\n",
    "print(f\"Mean: {x.type(torch.float32).mean()}\") # won't work without float datatype\n",
    "print(f\"Sum: {x.sum()}\")"
   ]
  },
  {
   "cell_type": "code",
   "execution_count": 106,
   "id": "7c161eb2",
   "metadata": {},
   "outputs": [
    {
     "data": {
      "text/plain": [
       "tensor(2)"
      ]
     },
     "execution_count": 106,
     "metadata": {},
     "output_type": "execute_result"
    }
   ],
   "source": [
    "tensor_A[0].argmax()"
   ]
  },
  {
   "cell_type": "code",
   "execution_count": 107,
   "id": "bd724eca",
   "metadata": {},
   "outputs": [
    {
     "data": {
      "text/plain": [
       "tensor(0)"
      ]
     },
     "execution_count": 107,
     "metadata": {},
     "output_type": "execute_result"
    }
   ],
   "source": [
    "tensor_A[0].argmin()"
   ]
  },
  {
   "cell_type": "code",
   "execution_count": 108,
   "id": "74b232d0",
   "metadata": {},
   "outputs": [
    {
     "data": {
      "text/plain": [
       "tensor([[1., 2., 3.],\n",
       "        [3., 4., 5.],\n",
       "        [5., 6., 7.]])"
      ]
     },
     "execution_count": 108,
     "metadata": {},
     "output_type": "execute_result"
    }
   ],
   "source": [
    "tensor_A"
   ]
  },
  {
   "cell_type": "code",
   "execution_count": 109,
   "id": "819a0b1a",
   "metadata": {},
   "outputs": [
    {
     "data": {
      "text/plain": [
       "tensor([[1., 2., 3.],\n",
       "        [3., 4., 5.],\n",
       "        [5., 6., 7.]], dtype=torch.float16)"
      ]
     },
     "execution_count": 109,
     "metadata": {},
     "output_type": "execute_result"
    }
   ],
   "source": [
    "tensor_A_float_16 = tensor_A.type(torch.float16)\n",
    "\n",
    "tensor_A_float_16"
   ]
  },
  {
   "cell_type": "markdown",
   "id": "c1460778",
   "metadata": {},
   "source": [
    "### Manipulating Shape and Dimensions\n",
    "- reshape: creates a new reshaped tensor\n",
    "- view: creates a new view of a tensor with different shape (shares data with original)\n",
    "- stack\n",
    "- squeeze\n",
    "- unsqueeze\n",
    "- permute"
   ]
  },
  {
   "cell_type": "markdown",
   "id": "df892737",
   "metadata": {},
   "source": [
    "### Indexing\n",
    "- outer dimension --> inner dimension\n",
    "- can use :, negative indexing"
   ]
  },
  {
   "cell_type": "code",
   "execution_count": 118,
   "id": "870362bc",
   "metadata": {},
   "outputs": [
    {
     "data": {
      "text/plain": [
       "(tensor([[[1, 2, 3],\n",
       "          [4, 5, 6],\n",
       "          [7, 8, 9]]]),\n",
       " torch.Size([1, 3, 3]))"
      ]
     },
     "execution_count": 118,
     "metadata": {},
     "output_type": "execute_result"
    }
   ],
   "source": [
    "x = torch.arange(1, 10).reshape(1, 3, 3)\n",
    "x, x.shape"
   ]
  },
  {
   "cell_type": "code",
   "execution_count": 124,
   "id": "20667775",
   "metadata": {},
   "outputs": [
    {
     "data": {
      "text/plain": [
       "tensor([[1, 2, 3],\n",
       "        [4, 5, 6],\n",
       "        [7, 8, 9]])"
      ]
     },
     "execution_count": 124,
     "metadata": {},
     "output_type": "execute_result"
    }
   ],
   "source": [
    "x[0]"
   ]
  },
  {
   "cell_type": "code",
   "execution_count": 125,
   "id": "4a6f8c70",
   "metadata": {},
   "outputs": [
    {
     "data": {
      "text/plain": [
       "tensor([1, 2, 3])"
      ]
     },
     "execution_count": 125,
     "metadata": {},
     "output_type": "execute_result"
    }
   ],
   "source": [
    "x[0][0]"
   ]
  },
  {
   "cell_type": "code",
   "execution_count": 128,
   "id": "82c0b10b",
   "metadata": {},
   "outputs": [
    {
     "data": {
      "text/plain": [
       "tensor(1)"
      ]
     },
     "execution_count": 128,
     "metadata": {},
     "output_type": "execute_result"
    }
   ],
   "source": [
    "x[0][0][0]"
   ]
  },
  {
   "cell_type": "code",
   "execution_count": 129,
   "id": "b0d35a1b",
   "metadata": {},
   "outputs": [
    {
     "data": {
      "text/plain": [
       "tensor([7, 8, 9])"
      ]
     },
     "execution_count": 129,
     "metadata": {},
     "output_type": "execute_result"
    }
   ],
   "source": [
    "x[0][-1]"
   ]
  },
  {
   "cell_type": "code",
   "execution_count": 135,
   "id": "92328bb9",
   "metadata": {},
   "outputs": [
    {
     "data": {
      "text/plain": [
       "tensor([[1, 2, 3],\n",
       "        [4, 5, 6],\n",
       "        [7, 8, 9]])"
      ]
     },
     "execution_count": 135,
     "metadata": {},
     "output_type": "execute_result"
    }
   ],
   "source": [
    "x[0][:]"
   ]
  },
  {
   "cell_type": "markdown",
   "id": "6e447f7c",
   "metadata": {},
   "source": [
    "# Reproducibility – Random Seeding\n",
    "- we can set a random seed for tensors using torch.manual_seed\n",
    "- must set this value each time we want to create a random tensor\n",
    "- this is useful if we want to reproduce the same starting point / random tensors"
   ]
  },
  {
   "cell_type": "code",
   "execution_count": 146,
   "id": "807f5cc9",
   "metadata": {},
   "outputs": [],
   "source": [
    "torch.manual_seed(42) \n",
    "A = torch.rand(3, 4)\n",
    "\n",
    "torch.random.manual_seed(42)\n",
    "B = torch.rand(3, 4)"
   ]
  },
  {
   "cell_type": "code",
   "execution_count": 150,
   "id": "34175727",
   "metadata": {},
   "outputs": [
    {
     "data": {
      "text/plain": [
       "(tensor([[0.8823, 0.9150, 0.3829, 0.9593],\n",
       "         [0.3904, 0.6009, 0.2566, 0.7936],\n",
       "         [0.9408, 0.1332, 0.9346, 0.5936]]),\n",
       " tensor([[0.8823, 0.9150, 0.3829, 0.9593],\n",
       "         [0.3904, 0.6009, 0.2566, 0.7936],\n",
       "         [0.9408, 0.1332, 0.9346, 0.5936]]),\n",
       " tensor([[True, True, True, True],\n",
       "         [True, True, True, True],\n",
       "         [True, True, True, True]]))"
      ]
     },
     "execution_count": 150,
     "metadata": {},
     "output_type": "execute_result"
    }
   ],
   "source": [
    "A, B, A == B"
   ]
  },
  {
   "cell_type": "code",
   "execution_count": 149,
   "id": "5a27629c",
   "metadata": {},
   "outputs": [
    {
     "data": {
      "text/plain": [
       "(tensor([[0.5779, 0.9040, 0.5547, 0.3423],\n",
       "         [0.6343, 0.3644, 0.7104, 0.9464],\n",
       "         [0.7890, 0.2814, 0.7886, 0.5895]]),\n",
       " tensor([[0.7539, 0.1952, 0.0050, 0.3068],\n",
       "         [0.1165, 0.9103, 0.6440, 0.7071],\n",
       "         [0.6581, 0.4913, 0.8913, 0.1447]]),\n",
       " tensor([[False, False, False, False],\n",
       "         [False, False, False, False],\n",
       "         [False, False, False, False]]))"
      ]
     },
     "execution_count": 149,
     "metadata": {},
     "output_type": "execute_result"
    }
   ],
   "source": [
    "C = torch.rand(3, 4)\n",
    "D = torch.rand(3, 4)\n",
    "\n",
    "\n",
    "C, D, C == D"
   ]
  },
  {
   "cell_type": "markdown",
   "id": "02608941",
   "metadata": {},
   "source": [
    "# Using GPUs\n",
    "- !nvidia-smi to check if you have access to a nvidia gpu\n",
    "- best practice to write code that works for both cpu or gpu depending on where it is running\n",
    "- can use one or many GPUs if available"
   ]
  },
  {
   "cell_type": "code",
   "execution_count": 152,
   "id": "7bb7c890",
   "metadata": {},
   "outputs": [
    {
     "data": {
      "text/plain": [
       "False"
      ]
     },
     "execution_count": 152,
     "metadata": {},
     "output_type": "execute_result"
    }
   ],
   "source": [
    "torch.cuda.is_available()"
   ]
  },
  {
   "cell_type": "code",
   "execution_count": 153,
   "id": "bee12184",
   "metadata": {},
   "outputs": [
    {
     "data": {
      "text/plain": [
       "'cpu'"
      ]
     },
     "execution_count": 153,
     "metadata": {},
     "output_type": "execute_result"
    }
   ],
   "source": [
    "device = \"cuda\" if torch.cuda.is_available() else \"cpu\"\n",
    "device"
   ]
  },
  {
   "cell_type": "code",
   "execution_count": 154,
   "id": "ddad5742",
   "metadata": {},
   "outputs": [
    {
     "data": {
      "text/plain": [
       "0"
      ]
     },
     "execution_count": 154,
     "metadata": {},
     "output_type": "execute_result"
    }
   ],
   "source": [
    "torch.cuda.device_count()"
   ]
  },
  {
   "cell_type": "code",
   "execution_count": null,
   "id": "d682f7f5",
   "metadata": {},
   "outputs": [],
   "source": []
  }
 ],
 "metadata": {
  "kernelspec": {
   "display_name": "Python 3 (ipykernel)",
   "language": "python",
   "name": "python3"
  },
  "language_info": {
   "codemirror_mode": {
    "name": "ipython",
    "version": 3
   },
   "file_extension": ".py",
   "mimetype": "text/x-python",
   "name": "python",
   "nbconvert_exporter": "python",
   "pygments_lexer": "ipython3",
   "version": "3.8.3"
  }
 },
 "nbformat": 4,
 "nbformat_minor": 5
}
